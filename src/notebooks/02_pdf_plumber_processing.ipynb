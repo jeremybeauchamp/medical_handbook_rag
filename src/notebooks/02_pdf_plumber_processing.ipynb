{
 "cells": [
  {
   "cell_type": "code",
   "execution_count": 2,
   "metadata": {},
   "outputs": [],
   "source": [
    "import pdfplumber"
   ]
  },
  {
   "cell_type": "code",
   "execution_count": 3,
   "metadata": {},
   "outputs": [],
   "source": [
    "with pdfplumber.open(\"../data/OxfordHandbookofClinical Medicine0th2017Edition_SamanSarKo.pdf\") as pdf:\n",
    "    pages = pdf.pages"
   ]
  },
  {
   "cell_type": "code",
   "execution_count": 4,
   "metadata": {},
   "outputs": [
    {
     "data": {
      "text/plain": [
       "'Index to emergency topics\\n‘Don’t go so fast: we’re in a hurry!’—Talleyrand to his coachman.\\nAcute abdomen 606 Malignant hypertension 140\\nAcute kidney injury 298 Meningitis 822\\nAddisonian crisis 836 Meningococcaemia 822\\nAnaphylaxis 794 Myocardial infarction 796\\nAneurysm, abdominal aortic 654 Needle pericardiocentesis 773\\nintracranial/extradural 78, 482 Neutropenic sepsis 352\\ngastrointestinal 256, 820 Obstructive uropathy 641\\nrectal 629\\nvariceal 257, 820 Oncological emergencies 528\\nAntidotes, poisoning 842 Opioid poisoning 842\\nArrhythmias, broad complex 128, 804 Overdose 838–44\\nnarrow complex, SVT 126, 806 Pacemaker, temporary 776\\nAsthma 810 Pericardiocentesis 773\\nAsystole 895 Phaeochromocytoma 837\\nAtrial fl utter/fi brillation Pneumonia 816\\nBacterial shock 790 Pneumothorax 814\\nBlast injury 851 Poisoning 838–44\\nBradycardia 124 Potassium, hyperkalaemia 674\\nhypokalaemia 674\\nBurns 846\\nPulmonary embolism 818\\nCardiac arrest 894 (Fig A3)\\nRespiratory arrest 894 (Fig A3)\\nCardiogenic tamponade 802\\nRespiratory failure 188\\nCardioversion, DC 770\\nResuscitation 894 (Fig A3)\\nCentral line insertion (CVP line) 774\\nRheumatological emergencies 538\\nCerebral oedema 830\\nShock 790\\nChest drain 766\\nSmoke inhalation 847\\nComa 786\\nSodium, hypernatraemia 672\\nCricothyrotomy 772\\nhyponatraemia 672\\nCyanosis 186–9\\nSpinal cord compression 466, 543\\nCut-down 761\\nStatus asthmaticus 810\\nDefi brillation 770, 894 (Fig A3)\\nStatus epilepticus 826\\nDiabetes emergencies 832–4\\nStroke 470\\nDisseminated intravascular coagulopathy\\n(DIC) 352 Superior vena cava obstruction 528\\nDisaster, major 850 Supraventricular tachycardia (SVT) 806\\nEncephalitis 824 Testicular torsion 652\\nEpilepsy, status 826 Thrombotic thrombocytopenic purpura\\nExtradural haemorrhage 482\\n(TTP) 315\\nThyroid storm 834\\nFluids, IV 666, 790\\nTransfusion reaction 349\\nHaematemesis 256–7\\nVarices, bleeding 257, 820\\nHaemorrhage 790\\nVasculitis, acute systemic 556\\nHyperthermia 790, 838\\nVenous thromboembolism, leg 656\\nHypoglycaemia 214, 834\\npulmonary 818\\nHypothermia 848\\nVentricular arrhythmias 128, 804\\nIntracranial pressure, raised 830\\nVentricular failure, left 800\\nIschaemic limb 656\\nVentricular fi brillation 894 (Fig A3)\\nMalaria 416\\nVentricular tachycardia 128, 804\\nMalignant hyperpyrexia 572\\n__OOHHCCMM__1100ee..iinnddbb bb 0022//0055//22001177 1199::0066'"
      ]
     },
     "execution_count": 4,
     "metadata": {},
     "output_type": "execute_result"
    }
   ],
   "source": [
    "pages[0].extract_text()"
   ]
  },
  {
   "cell_type": "code",
   "execution_count": 5,
   "metadata": {},
   "outputs": [],
   "source": [
    "output = '\\n\\n'.join([p.extract_text() for p in pages])"
   ]
  },
  {
   "cell_type": "code",
   "execution_count": 6,
   "metadata": {},
   "outputs": [
    {
     "data": {
      "text/plain": [
       "'Index to emergency topics\\n‘Don’t go so fast: we’re in a hurry!’—Talleyrand to his coachman.\\nAcute abdomen 606 Malignant hypertension 140\\nAcute kidney injury 298 Meningitis 822\\nAddisonian crisis 836 Meningococcaemia 822\\nAnaphylaxis 794 Myocardial infarction 796\\nAneurysm, abdominal aortic 654 Needle pericardiocentesis 773\\nintracranial/extradural 78, 482 Neutropenic sepsis 352\\ngastrointestinal 256, 820 Obstructive uropathy 641\\nrectal 629\\nvariceal 257, 820 Oncological emergencies 528\\nAntidotes, poisoning 842 Opioid poisoning 842\\nArrhythmias, broad complex 128, 804 Overdose 838–44\\nnarrow complex, SVT 126, 806 Pacemaker, temporary 776\\nAsthma 810 Pericardiocentesis 773\\nAsystole 895 Phaeochromocytoma 837\\nAtrial fl utter/fi brillation Pneumonia 816\\nBacterial shock 790 Pneumothorax 814\\nBlast injury 851 Poisoning 838–44\\nBradycardia 124 Potassium, hyperkalaemia 674\\nhypokalaemia 674\\nBurns 846\\nPulmonary embolism 818\\nCardiac arrest 894 (Fig A3)\\nRespiratory arrest 894 (Fig A3)\\nCardiogenic tamponade 80'"
      ]
     },
     "execution_count": 6,
     "metadata": {},
     "output_type": "execute_result"
    }
   ],
   "source": [
    "output[:1000]"
   ]
  },
  {
   "cell_type": "code",
   "execution_count": null,
   "metadata": {},
   "outputs": [],
   "source": [
    "with open('../outputs/output_pdf_plumber.txt', 'w') as fd:\n",
    "    fd.write(output)"
   ]
  }
 ],
 "metadata": {
  "kernelspec": {
   "display_name": ".venv",
   "language": "python",
   "name": "python3"
  },
  "language_info": {
   "codemirror_mode": {
    "name": "ipython",
    "version": 3
   },
   "file_extension": ".py",
   "mimetype": "text/x-python",
   "name": "python",
   "nbconvert_exporter": "python",
   "pygments_lexer": "ipython3",
   "version": "3.12.6"
  }
 },
 "nbformat": 4,
 "nbformat_minor": 2
}
